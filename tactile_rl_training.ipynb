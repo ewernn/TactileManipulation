{
 "cells": [
  {
   "cell_type": "markdown",
   "metadata": {},
   "source": [
    "# Tactile Manipulation - BC Training on Colab\n",
    "\n",
    "This notebook trains a Behavior Cloning policy from expert demonstrations using T4/A100 GPU."
   ]
  },
  {
   "cell_type": "markdown",
   "metadata": {},
   "source": [
    "## 1. Setup Environment"
   ]
  },
  {
   "cell_type": "code",
   "execution_count": null,
   "metadata": {},
   "outputs": [],
   "source": [
    "# Check GPU\n",
    "!nvidia-smi\n",
    "import torch\n",
    "print(f\"PyTorch version: {torch.__version__}\")\n",
    "print(f\"CUDA available: {torch.cuda.is_available()}\")\n",
    "if torch.cuda.is_available():\n",
    "    print(f\"GPU: {torch.cuda.get_device_name()}\")\n",
    "    print(f\"Memory: {torch.cuda.get_device_properties(0).total_memory / 1e9:.1f}GB\")"
   ]
  },
  {
   "cell_type": "code",
   "execution_count": null,
   "metadata": {},
   "outputs": [],
   "source": [
    "# Install dependencies\n",
    "!pip install -q mujoco h5py tensorboard matplotlib tqdm"
   ]
  },
  {
   "cell_type": "markdown",
   "metadata": {},
   "source": "## Step 2: Clone Your Repository",
   "outputs": []
  },
  {
   "cell_type": "code",
   "metadata": {},
   "outputs": [],
   "source": "# Clone your repository\n!git clone https://github.com/YOUR_USERNAME/TactileManipulation.git\n%cd TactileManipulation\n\n# Verify structure\n!ls -la\n!ls tactile-rl/scripts/\n!ls tactile-rl/datasets/expert/"
  },
  {
   "cell_type": "markdown",
   "metadata": {},
   "source": "## Step 3: Mount Google Drive for Checkpoints",
   "outputs": []
  },
  {
   "cell_type": "code",
   "execution_count": null,
   "metadata": {},
   "outputs": [],
   "source": [
    "from google.colab import drive\n",
    "drive.mount('/content/drive')\n",
    "\n",
    "# Create checkpoint directory\n",
    "import os\n",
    "checkpoint_dir = '/content/drive/MyDrive/tactile_manipulation_checkpoints'\n",
    "os.makedirs(checkpoint_dir, exist_ok=True)\n",
    "print(f\"Checkpoints will be saved to: {checkpoint_dir}\")"
   ]
  },
  {
   "cell_type": "markdown",
   "metadata": {},
   "source": "## Step 4: Verify Expert Demonstrations",
   "outputs": []
  },
  {
   "cell_type": "markdown",
   "source": "### Optional: Upload Demonstrations if Not in Repository\n\nIf the demonstrations aren't in your repository, you can upload them here.",
   "metadata": {}
  },
  {
   "cell_type": "code",
   "source": "# Optional: Upload demonstrations if not in repo\nif not demo_files:\n    from google.colab import files\n    print(\"Please upload your expert demonstrations HDF5 file...\")\n    uploaded = files.upload()\n    \n    # Move to datasets directory\n    demo_filename = list(uploaded.keys())[0]\n    !mv {demo_filename} tactile-rl/datasets/expert/\n    demo_path = f'tactile-rl/datasets/expert/{demo_filename}'\n    \n    print(f\"Uploaded and moved to: {demo_path}\")",
   "metadata": {},
   "outputs": []
  },
  {
   "cell_type": "code",
   "metadata": {},
   "outputs": [],
   "source": "# Find and verify expert demonstrations\nimport os\nimport h5py\n\n# Look for expert demo files\ndemo_dir = 'tactile-rl/datasets/expert/'\ndemo_files = [f for f in os.listdir(demo_dir) if f.endswith('.hdf5')]\n\nprint(f\"Found {len(demo_files)} demonstration files:\")\nfor f in sorted(demo_files):\n    print(f\"  - {f}\")\n\n# Use the most recent one (or specify which one you want)\nif demo_files:\n    # Sort by timestamp in filename to get most recent\n    demo_files.sort()\n    demo_file = demo_files[-1]  # Use the last one (most recent)\n    demo_path = os.path.join(demo_dir, demo_file)\n    print(f\"\\nUsing: {demo_file}\")\n    \n    # Verify the file\n    with h5py.File(demo_path, 'r') as f:\n        print(f\"\\nLoaded {f.attrs['num_demos']} demonstrations\")\n        print(f\"Environment: {f.attrs['env_name']}\")\n        print(f\"Control frequency: {f.attrs['control_frequency']} Hz\")\n        \n        # Check first demo\n        demo0 = f['demo_0']\n        print(f\"\\nDemo 0 length: {demo0.attrs['episode_length']} steps\")\n        print(f\"Success: {demo0.attrs['success']}\")\n        print(f\"Final reward: {demo0.attrs['final_reward']:.3f}\")\nelse:\n    print(\"\\n⚠️ No demonstration files found!\")\n    print(\"Please upload them using the next cell.\")"
  },
  {
   "cell_type": "markdown",
   "metadata": {},
   "source": [
    "## 5. Train BC Policy"
   ]
  },
  {
   "cell_type": "code",
   "metadata": {},
   "outputs": [],
   "source": "# Create run directory with timestamp\nfrom datetime import datetime\ntimestamp = datetime.now().strftime(\"%Y%m%d_%H%M%S\")\nrun_dir = f\"{checkpoint_dir}/bc_run_{timestamp}\"\n\n# Start training with the expert demonstrations from the repo\n# Note: Training typically takes 30-45 minutes on T4, but may be faster on A100 or with smaller datasets\n!cd tactile-rl && python scripts/train_bc_policy.py \\\n    --demos {demo_path} \\\n    --epochs 150 \\\n    --batch_size 256 \\\n    --lr 1e-3 \\\n    --hidden_dims 256 256 \\\n    --dropout 0.1 \\\n    --save_dir {run_dir} \\\n    --device cuda \\\n    --log_interval 10"
  },
  {
   "cell_type": "markdown",
   "metadata": {},
   "source": [
    "## 6. Monitor Training Progress"
   ]
  },
  {
   "cell_type": "code",
   "execution_count": null,
   "metadata": {},
   "outputs": [],
   "source": [
    "# Plot training curves\n",
    "import json\n",
    "import matplotlib.pyplot as plt\n",
    "\n",
    "# Load training history\n",
    "history_path = f\"{run_dir}/training_history.json\"\n",
    "if os.path.exists(history_path):\n",
    "    with open(history_path, 'r') as f:\n",
    "        history = json.load(f)\n",
    "    \n",
    "    epochs = [h['epoch'] for h in history]\n",
    "    train_losses = [h['train_loss'] for h in history]\n",
    "    val_losses = [h['val_loss'] for h in history]\n",
    "    \n",
    "    plt.figure(figsize=(12, 4))\n",
    "    \n",
    "    plt.subplot(1, 2, 1)\n",
    "    plt.plot(epochs, train_losses, label='Train', linewidth=2)\n",
    "    plt.plot(epochs, val_losses, label='Val', linewidth=2)\n",
    "    plt.xlabel('Epoch')\n",
    "    plt.ylabel('MSE Loss')\n",
    "    plt.legend()\n",
    "    plt.title('BC Training Loss')\n",
    "    plt.grid(True, alpha=0.3)\n",
    "    \n",
    "    plt.subplot(1, 2, 2)\n",
    "    plt.plot(epochs, [h['lr'] for h in history], linewidth=2)\n",
    "    plt.xlabel('Epoch')\n",
    "    plt.ylabel('Learning Rate')\n",
    "    plt.title('Cosine Annealing Schedule')\n",
    "    plt.grid(True, alpha=0.3)\n",
    "    plt.yscale('log')\n",
    "    \n",
    "    plt.tight_layout()\n",
    "    plt.show()\n",
    "    \n",
    "    print(f\"Final train loss: {train_losses[-1]:.4f}\")\n",
    "    print(f\"Final val loss: {val_losses[-1]:.4f}\")\n",
    "    print(f\"Best val loss: {min(val_losses):.4f} at epoch {epochs[val_losses.index(min(val_losses))]}\")"
   ]
  },
  {
   "cell_type": "markdown",
   "metadata": {},
   "source": [
    "## 7. Evaluate Trained Policy"
   ]
  },
  {
   "cell_type": "code",
   "metadata": {},
   "outputs": [],
   "source": "# Load and test the trained model\nimport torch\nimport numpy as np\n\n# Add scripts to path\nimport sys\nsys.path.append('tactile-rl/scripts')\nfrom train_bc_policy import BCPolicy\n\n# Load checkpoint with weights_only=False (safe since we created this file)\ncheckpoint_path = f\"{run_dir}/best_model.pt\"\ncheckpoint = torch.load(checkpoint_path, weights_only=False)\n\n# Create model with SAME configuration as during training (including dropout)\nmodel = BCPolicy(\n    obs_dim=52,\n    action_dim=8,\n    hidden_dims=[256, 256],\n    dropout=0.1  # MUST match training configuration\n).cuda()\n\n# Load weights\nmodel.load_state_dict(checkpoint['model_state_dict'])\nmodel.eval()  # This will disable dropout during evaluation\n\nprint(f\"Loaded model from epoch {checkpoint['epoch']}\")\nprint(f\"Validation loss: {checkpoint['val_loss']:.4f}\")\n\n# Print normalization stats if available\nif 'norm_stats' in checkpoint:\n    print(\"\\nNormalization statistics loaded:\")\n    print(f\"  Observation dims: {len(checkpoint['norm_stats']['obs_mean'])}\")\n    print(f\"  Action dims: {len(checkpoint['norm_stats']['action_mean'])}\")\n\n# Test on random inputs\ntest_obs = torch.randn(5, 52).cuda()\nwith torch.no_grad():\n    actions = model(test_obs)\n    print(f\"\\nSample action predictions:\")\n    print(f\"Shape: {actions.shape}\")\n    print(f\"Range: [{actions.min().item():.3f}, {actions.max().item():.3f}]\")\n    print(f\"\\nFirst action: {actions[0].cpu().numpy()}\")"
  },
  {
   "cell_type": "markdown",
   "metadata": {},
   "source": [
    "## 8. Download Trained Model"
   ]
  },
  {
   "cell_type": "code",
   "metadata": {},
   "outputs": [],
   "source": "# Download the best model and training history\nfrom google.colab import files\n\nprint(\"Downloading trained model...\")\nfiles.download(f\"{run_dir}/best_model.pt\")\nfiles.download(f\"{run_dir}/training_history.json\")\n\n# Also save to permanent location on Drive\n!cp {run_dir}/best_model.pt /content/drive/MyDrive/bc_policy_best.pt\nprint(\"\\nModel saved to Google Drive as bc_policy_best.pt\")\n\n# Quick summary of the training\nimport json\nwith open(f\"{run_dir}/training_history.json\", 'r') as f:\n    history = json.load(f)\n    \nprint(f\"\\nTraining Summary:\")\nprint(f\"  Total epochs: {len(history)}\")\nprint(f\"  Best val loss: {min([h['val_loss'] for h in history]):.4f}\")\nprint(f\"  Final train loss: {history[-1]['train_loss']:.4f}\")\nprint(f\"  Final val loss: {history[-1]['val_loss']:.4f}\")"
  },
  {
   "cell_type": "markdown",
   "metadata": {},
   "source": [
    "## 9. Training Multiple Seeds (Optional)"
   ]
  },
  {
   "cell_type": "code",
   "metadata": {},
   "outputs": [],
   "source": "# Train multiple seeds for robustness\nseeds = [42, 123, 456]\n\nfor seed in seeds:\n    print(f\"\\nTraining with seed {seed}...\")\n    run_dir = f\"{checkpoint_dir}/bc_seed_{seed}\"\n    \n    !cd tactile-rl && python scripts/train_bc_policy.py \\\n        --demos {demo_path} \\\n        --epochs 150 \\\n        --batch_size 256 \\\n        --lr 1e-3 \\\n        --hidden_dims 256 256 \\\n        --dropout 0.1 \\\n        --save_dir {run_dir} \\\n        --device cuda \\\n        --log_interval 50  # Less verbose"
  },
  {
   "cell_type": "markdown",
   "metadata": {},
   "source": [
    "## Next Steps\n",
    "\n",
    "After BC training completes (~30-45 minutes on T4):\n",
    "\n",
    "1. **Evaluate BC Success Rate**\n",
    "   - Expected: 70-80% success on training distribution\n",
    "   - Lower on new initial conditions\n",
    "\n",
    "2. **Prepare for RL Fine-tuning**\n",
    "   - BC provides good initialization\n",
    "   - RL will improve robustness and success rate\n",
    "   - Target: 85-95% success\n",
    "\n",
    "3. **Save Everything**\n",
    "   - Model checkpoint\n",
    "   - Normalization statistics\n",
    "   - Training curves\n",
    "\n",
    "The trained BC policy is now ready for RL fine-tuning!"
   ]
  }
 ],
 "metadata": {
  "accelerator": "GPU",
  "colab": {
   "gpuType": "T4",
   "provenance": []
  },
  "kernelspec": {
   "display_name": "Python 3",
   "name": "python3"
  }
 },
 "nbformat": 4,
 "nbformat_minor": 0
}