{
 "cells": [
  {
   "cell_type": "markdown",
   "metadata": {},
   "source": [
    "# Tactile Manipulation - BC Training on Colab\n",
    "\n",
    "This notebook trains a Behavior Cloning policy from expert demonstrations using T4/A100 GPU."
   ]
  },
  {
   "cell_type": "markdown",
   "metadata": {},
   "source": [
    "## 1. Setup Environment"
   ]
  },
  {
   "cell_type": "code",
   "execution_count": null,
   "metadata": {},
   "outputs": [],
   "source": [
    "# Check GPU\n",
    "!nvidia-smi\n",
    "import torch\n",
    "print(f\"PyTorch version: {torch.__version__}\")\n",
    "print(f\"CUDA available: {torch.cuda.is_available()}\")\n",
    "if torch.cuda.is_available():\n",
    "    print(f\"GPU: {torch.cuda.get_device_name()}\")\n",
    "    print(f\"Memory: {torch.cuda.get_device_properties(0).total_memory / 1e9:.1f}GB\")"
   ]
  },
  {
   "cell_type": "code",
   "execution_count": null,
   "metadata": {},
   "outputs": [],
   "source": [
    "# Install dependencies\n",
    "!pip install -q mujoco h5py tensorboard matplotlib tqdm"
   ]
  },
  {
   "cell_type": "markdown",
   "metadata": {},
   "source": [
    "## 2. Clone Repository"
   ]
  },
  {
   "cell_type": "code",
   "execution_count": null,
   "metadata": {},
   "outputs": [],
   "source": [
    "# Clone your repository\n",
    "# !git clone https://github.com/YOUR_USERNAME/TactileManipulation.git\n",
    "# %cd TactileManipulation/tactile-rl\n",
    "\n",
    "# For now, create directories\n",
    "!mkdir -p tactile-rl/scripts\n",
    "!mkdir -p tactile-rl/datasets/expert\n",
    "%cd tactile-rl"
   ]
  },
  {
   "cell_type": "markdown",
   "metadata": {},
   "source": [
    "## 3. Mount Google Drive"
   ]
  },
  {
   "cell_type": "code",
   "execution_count": null,
   "metadata": {},
   "outputs": [],
   "source": [
    "from google.colab import drive\n",
    "drive.mount('/content/drive')\n",
    "\n",
    "# Create checkpoint directory\n",
    "import os\n",
    "checkpoint_dir = '/content/drive/MyDrive/tactile_manipulation_checkpoints'\n",
    "os.makedirs(checkpoint_dir, exist_ok=True)\n",
    "print(f\"Checkpoints will be saved to: {checkpoint_dir}\")"
   ]
  },
  {
   "cell_type": "markdown",
   "metadata": {},
   "source": [
    "## 4. Upload Training Script and Data"
   ]
  },
  {
   "cell_type": "code",
   "execution_count": null,
   "metadata": {},
   "outputs": [],
   "source": [
    "# Option 1: Upload files\n",
    "from google.colab import files\n",
    "\n",
    "print(\"Upload train_bc_policy.py:\")\n",
    "uploaded = files.upload()\n",
    "!mv train_bc_policy.py scripts/\n",
    "\n",
    "print(\"\\nUpload expert demonstrations HDF5:\")\n",
    "uploaded = files.upload()\n",
    "demo_filename = list(uploaded.keys())[0]\n",
    "!mv {demo_filename} datasets/expert/\n",
    "demo_path = f'datasets/expert/{demo_filename}'"
   ]
  },
  {
   "cell_type": "code",
   "execution_count": null,
   "metadata": {},
   "outputs": [],
   "source": [
    "# Verify demonstrations\n",
    "import h5py\n",
    "with h5py.File(demo_path, 'r') as f:\n",
    "    print(f\"Loaded {f.attrs['num_demos']} demonstrations\")\n",
    "    print(f\"Environment: {f.attrs['env_name']}\")\n",
    "    print(f\"Control frequency: {f.attrs['control_frequency']} Hz\")\n",
    "    \n",
    "    # Check first demo\n",
    "    demo0 = f['demo_0']\n",
    "    print(f\"\\nDemo 0 length: {demo0.attrs['episode_length']} steps\")\n",
    "    print(f\"Success: {demo0.attrs['success']}\")\n",
    "    print(f\"Final reward: {demo0.attrs['final_reward']:.3f}\")"
   ]
  },
  {
   "cell_type": "markdown",
   "metadata": {},
   "source": [
    "## 5. Train BC Policy"
   ]
  },
  {
   "cell_type": "code",
   "execution_count": null,
   "metadata": {},
   "outputs": [],
   "source": [
    "# Create run directory with timestamp\n",
    "from datetime import datetime\n",
    "timestamp = datetime.now().strftime(\"%Y%m%d_%H%M%S\")\n",
    "run_dir = f\"{checkpoint_dir}/bc_run_{timestamp}\"\n",
    "\n",
    "# Start training\n",
    "!python scripts/train_bc_policy.py \\\n",
    "    --demos {demo_path} \\\n",
    "    --epochs 150 \\\n",
    "    --batch_size 256 \\\n",
    "    --lr 1e-3 \\\n",
    "    --hidden_dims 256 256 \\\n",
    "    --dropout 0.1 \\\n",
    "    --save_dir {run_dir} \\\n",
    "    --device cuda \\\n",
    "    --log_interval 10"
   ]
  },
  {
   "cell_type": "markdown",
   "metadata": {},
   "source": [
    "## 6. Monitor Training Progress"
   ]
  },
  {
   "cell_type": "code",
   "execution_count": null,
   "metadata": {},
   "outputs": [],
   "source": [
    "# Plot training curves\n",
    "import json\n",
    "import matplotlib.pyplot as plt\n",
    "\n",
    "# Load training history\n",
    "history_path = f\"{run_dir}/training_history.json\"\n",
    "if os.path.exists(history_path):\n",
    "    with open(history_path, 'r') as f:\n",
    "        history = json.load(f)\n",
    "    \n",
    "    epochs = [h['epoch'] for h in history]\n",
    "    train_losses = [h['train_loss'] for h in history]\n",
    "    val_losses = [h['val_loss'] for h in history]\n",
    "    \n",
    "    plt.figure(figsize=(12, 4))\n",
    "    \n",
    "    plt.subplot(1, 2, 1)\n",
    "    plt.plot(epochs, train_losses, label='Train', linewidth=2)\n",
    "    plt.plot(epochs, val_losses, label='Val', linewidth=2)\n",
    "    plt.xlabel('Epoch')\n",
    "    plt.ylabel('MSE Loss')\n",
    "    plt.legend()\n",
    "    plt.title('BC Training Loss')\n",
    "    plt.grid(True, alpha=0.3)\n",
    "    \n",
    "    plt.subplot(1, 2, 2)\n",
    "    plt.plot(epochs, [h['lr'] for h in history], linewidth=2)\n",
    "    plt.xlabel('Epoch')\n",
    "    plt.ylabel('Learning Rate')\n",
    "    plt.title('Cosine Annealing Schedule')\n",
    "    plt.grid(True, alpha=0.3)\n",
    "    plt.yscale('log')\n",
    "    \n",
    "    plt.tight_layout()\n",
    "    plt.show()\n",
    "    \n",
    "    print(f\"Final train loss: {train_losses[-1]:.4f}\")\n",
    "    print(f\"Final val loss: {val_losses[-1]:.4f}\")\n",
    "    print(f\"Best val loss: {min(val_losses):.4f} at epoch {epochs[val_losses.index(min(val_losses))]}\")"
   ]
  },
  {
   "cell_type": "markdown",
   "metadata": {},
   "source": [
    "## 7. Evaluate Trained Policy"
   ]
  },
  {
   "cell_type": "code",
   "execution_count": null,
   "metadata": {},
   "outputs": [],
   "source": [
    "# Load and test the trained model\n",
    "import torch\n",
    "import numpy as np\n",
    "\n",
    "# Import model class\n",
    "import sys\n",
    "sys.path.append('scripts')\n",
    "from train_bc_policy import BCPolicy\n",
    "\n",
    "# Load checkpoint\n",
    "checkpoint_path = f\"{run_dir}/best_model.pt\"\n",
    "checkpoint = torch.load(checkpoint_path)\n",
    "\n",
    "# Create model\n",
    "model = BCPolicy(\n",
    "    obs_dim=52,\n",
    "    action_dim=8,\n",
    "    hidden_dims=[256, 256],\n",
    "    dropout=0.0  # No dropout for evaluation\n",
    ").cuda()\n",
    "\n",
    "# Load weights\n",
    "model.load_state_dict(checkpoint['model_state_dict'])\n",
    "model.eval()\n",
    "\n",
    "print(f\"Loaded model from epoch {checkpoint['epoch']}\")\n",
    "print(f\"Validation loss: {checkpoint['val_loss']:.4f}\")\n",
    "\n",
    "# Test on random inputs\n",
    "test_obs = torch.randn(5, 52).cuda()\n",
    "with torch.no_grad():\n",
    "    actions = model(test_obs)\n",
    "    print(f\"\\nSample action predictions:\")\n",
    "    print(f\"Shape: {actions.shape}\")\n",
    "    print(f\"Range: [{actions.min().item():.3f}, {actions.max().item():.3f}]\")\n",
    "    print(f\"\\nFirst action: {actions[0].cpu().numpy()}\")"
   ]
  },
  {
   "cell_type": "markdown",
   "metadata": {},
   "source": [
    "## 8. Download Trained Model"
   ]
  },
  {
   "cell_type": "code",
   "execution_count": null,
   "metadata": {},
   "outputs": [],
   "source": [
    "# Download the best model and training history\n",
    "from google.colab import files\n",
    "\n",
    "print(\"Downloading trained model...\")\n",
    "files.download(f\"{run_dir}/best_model.pt\")\n",
    "files.download(f\"{run_dir}/training_history.json\")\n",
    "\n",
    "# Also save to permanent location on Drive\n",
    "!cp {run_dir}/best_model.pt /content/drive/MyDrive/bc_policy_best.pt\n",
    "print(\"\\nModel saved to Google Drive as bc_policy_best.pt\")"
   ]
  },
  {
   "cell_type": "markdown",
   "metadata": {},
   "source": [
    "## 9. Training Multiple Seeds (Optional)"
   ]
  },
  {
   "cell_type": "code",
   "execution_count": null,
   "metadata": {},
   "outputs": [],
   "source": [
    "# Train multiple seeds for robustness\n",
    "seeds = [42, 123, 456]\n",
    "\n",
    "for seed in seeds:\n",
    "    print(f\"\\nTraining with seed {seed}...\")\n",
    "    run_dir = f\"{checkpoint_dir}/bc_seed_{seed}\"\n",
    "    \n",
    "    !python scripts/train_bc_policy.py \\\n",
    "        --demos {demo_path} \\\n",
    "        --epochs 150 \\\n",
    "        --batch_size 256 \\\n",
    "        --lr 1e-3 \\\n",
    "        --hidden_dims 256 256 \\\n",
    "        --dropout 0.1 \\\n",
    "        --save_dir {run_dir} \\\n",
    "        --device cuda \\\n",
    "        --log_interval 50  # Less verbose"
   ]
  },
  {
   "cell_type": "markdown",
   "metadata": {},
   "source": [
    "## Next Steps\n",
    "\n",
    "After BC training completes (~30-45 minutes on T4):\n",
    "\n",
    "1. **Evaluate BC Success Rate**\n",
    "   - Expected: 70-80% success on training distribution\n",
    "   - Lower on new initial conditions\n",
    "\n",
    "2. **Prepare for RL Fine-tuning**\n",
    "   - BC provides good initialization\n",
    "   - RL will improve robustness and success rate\n",
    "   - Target: 85-95% success\n",
    "\n",
    "3. **Save Everything**\n",
    "   - Model checkpoint\n",
    "   - Normalization statistics\n",
    "   - Training curves\n",
    "\n",
    "The trained BC policy is now ready for RL fine-tuning!"
   ]
  }
 ],
 "metadata": {
  "accelerator": "GPU",
  "colab": {
   "gpuType": "T4",
   "provenance": []
  },
  "kernelspec": {
   "display_name": "Python 3",
   "name": "python3"
  }
 },
 "nbformat": 4,
 "nbformat_minor": 0
}